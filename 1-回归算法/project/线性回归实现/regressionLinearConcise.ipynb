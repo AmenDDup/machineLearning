{
 "cells": [
  {
   "cell_type": "code",
   "execution_count": 1,
   "metadata": {},
   "outputs": [],
   "source": [
    "import numpy as np\n",
    "import torch\n",
    "from torch.utils import data\n",
    "from d2l import torch as d2l\n",
    "\n",
    "# 1. 生成数据集\n",
    "true_w = torch.tensor([2, -3.4])\n",
    "true_b = 4.2\n",
    "features, labels = d2l.synthetic_data(true_w, true_b, 1000)"
   ]
  },
  {
   "cell_type": "code",
   "execution_count": 2,
   "metadata": {},
   "outputs": [
    {
     "data": {
      "text/plain": [
       "[tensor([[ 0.5642,  1.1767],\n",
       "         [-0.1985, -0.9879],\n",
       "         [ 1.5983, -1.3614],\n",
       "         [ 0.9071, -0.1019],\n",
       "         [-0.0680,  1.8556],\n",
       "         [-1.8647, -0.1019],\n",
       "         [-2.1067, -0.7261],\n",
       "         [ 0.6785, -1.3266],\n",
       "         [-0.1205, -0.1067],\n",
       "         [ 0.8286, -1.3229]]),\n",
       " tensor([[ 1.3194],\n",
       "         [ 7.1487],\n",
       "         [12.0481],\n",
       "         [ 6.3666],\n",
       "         [-2.2522],\n",
       "         [ 0.8201],\n",
       "         [ 2.4675],\n",
       "         [10.0555],\n",
       "         [ 4.3203],\n",
       "         [10.3709]])]"
      ]
     },
     "execution_count": 2,
     "metadata": {},
     "output_type": "execute_result"
    }
   ],
   "source": [
    "# 2. 读取数据集\n",
    "\n",
    "# 调用框架中现有的api来读取，构造一个PyTorch数据迭代器\n",
    "def load_array(data_arrays, batch_size, is_train=True):  #@save\n",
    "    dataset = data.TensorDataset(*data_arrays)\n",
    "    return data.DataLoader(dataset, batch_size, shuffle=is_train)\n",
    "\n",
    "batch_size = 10\n",
    "data_iter = load_array((features, labels), batch_size)\n",
    "\n",
    "# 打印第一个小批量样本\n",
    "# 使用iter构造Python迭代器，使用next从迭代器中获取第一项\n",
    "next(iter(data_iter))"
   ]
  },
  {
   "cell_type": "code",
   "execution_count": 3,
   "metadata": {},
   "outputs": [],
   "source": [
    "from torch import nn\n",
    "\n",
    "# 3. 定义模型\n",
    "# Sequential将数据传入第一层，再将其输出作为第二层的输入\n",
    "net = nn.Sequential(nn.Linear(2, 1))  # nn.Linear（输入特征形状，输出特征形状）\n",
    "\n",
    "# 4. 初始化参数\n",
    "net[0].weight.data.normal_(0, 0.01) # net[0]代表第一层\n",
    "net[0].bias.data.fill_(0)\n",
    "\n",
    "# 5. 损失函数，计算均方误差\n",
    "loss = nn.MSELoss() \n",
    "\n",
    "# 6. 优化算法\n",
    "trainer = torch.optim.SGD(net.parameters(), lr=0.03) # net.parameters()需要优化的参数，从模型中获得；超参数学习率lr"
   ]
  },
  {
   "cell_type": "code",
   "execution_count": 4,
   "metadata": {},
   "outputs": [
    {
     "name": "stdout",
     "output_type": "stream",
     "text": [
      "epoch 1, loss 0.000287\n",
      "epoch 2, loss 0.000097\n",
      "epoch 3, loss 0.000097\n"
     ]
    }
   ],
   "source": [
    "# 7. 训练\n",
    "\n",
    "num_epochs = 3\n",
    "for epoch in range(num_epochs):\n",
    "    for X, y in data_iter:\n",
    "        l = loss(net(X) ,y)\n",
    "        trainer.zero_grad()\n",
    "        l.backward()\n",
    "        trainer.step()\n",
    "    l = loss(net(features), labels)\n",
    "    print(f'epoch {epoch + 1}, loss {l:f}')"
   ]
  }
 ],
 "metadata": {
  "kernelspec": {
   "display_name": "python-d2l",
   "language": "python",
   "name": "d2l"
  },
  "language_info": {
   "codemirror_mode": {
    "name": "ipython",
    "version": 3
   },
   "file_extension": ".py",
   "mimetype": "text/x-python",
   "name": "python",
   "nbconvert_exporter": "python",
   "pygments_lexer": "ipython3",
   "version": "3.8.18"
  }
 },
 "nbformat": 4,
 "nbformat_minor": 2
}
