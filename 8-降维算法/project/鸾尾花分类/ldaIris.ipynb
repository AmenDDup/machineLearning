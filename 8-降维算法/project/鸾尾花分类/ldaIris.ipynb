{
 "cells": [
  {
   "cell_type": "code",
   "execution_count": 1,
   "metadata": {},
   "outputs": [
    {
     "data": {
      "text/html": [
       "<div>\n",
       "<style scoped>\n",
       "    .dataframe tbody tr th:only-of-type {\n",
       "        vertical-align: middle;\n",
       "    }\n",
       "\n",
       "    .dataframe tbody tr th {\n",
       "        vertical-align: top;\n",
       "    }\n",
       "\n",
       "    .dataframe thead th {\n",
       "        text-align: right;\n",
       "    }\n",
       "</style>\n",
       "<table border=\"1\" class=\"dataframe\">\n",
       "  <thead>\n",
       "    <tr style=\"text-align: right;\">\n",
       "      <th></th>\n",
       "      <th>sepal length in cm</th>\n",
       "      <th>sepal width in cm</th>\n",
       "      <th>petal length in cm</th>\n",
       "      <th>petal width in cm</th>\n",
       "      <th>class label</th>\n",
       "    </tr>\n",
       "  </thead>\n",
       "  <tbody>\n",
       "    <tr>\n",
       "      <th>0</th>\n",
       "      <td>5.1</td>\n",
       "      <td>3.5</td>\n",
       "      <td>1.4</td>\n",
       "      <td>0.2</td>\n",
       "      <td>Iris-setosa</td>\n",
       "    </tr>\n",
       "    <tr>\n",
       "      <th>1</th>\n",
       "      <td>4.9</td>\n",
       "      <td>3.0</td>\n",
       "      <td>1.4</td>\n",
       "      <td>0.2</td>\n",
       "      <td>Iris-setosa</td>\n",
       "    </tr>\n",
       "    <tr>\n",
       "      <th>2</th>\n",
       "      <td>4.7</td>\n",
       "      <td>3.2</td>\n",
       "      <td>1.3</td>\n",
       "      <td>0.2</td>\n",
       "      <td>Iris-setosa</td>\n",
       "    </tr>\n",
       "    <tr>\n",
       "      <th>3</th>\n",
       "      <td>4.6</td>\n",
       "      <td>3.1</td>\n",
       "      <td>1.5</td>\n",
       "      <td>0.2</td>\n",
       "      <td>Iris-setosa</td>\n",
       "    </tr>\n",
       "    <tr>\n",
       "      <th>4</th>\n",
       "      <td>5.0</td>\n",
       "      <td>3.6</td>\n",
       "      <td>1.4</td>\n",
       "      <td>0.2</td>\n",
       "      <td>Iris-setosa</td>\n",
       "    </tr>\n",
       "  </tbody>\n",
       "</table>\n",
       "</div>"
      ],
      "text/plain": [
       "   sepal length in cm  sepal width in cm  petal length in cm  \\\n",
       "0                 5.1                3.5                 1.4   \n",
       "1                 4.9                3.0                 1.4   \n",
       "2                 4.7                3.2                 1.3   \n",
       "3                 4.6                3.1                 1.5   \n",
       "4                 5.0                3.6                 1.4   \n",
       "\n",
       "   petal width in cm  class label  \n",
       "0                0.2  Iris-setosa  \n",
       "1                0.2  Iris-setosa  \n",
       "2                0.2  Iris-setosa  \n",
       "3                0.2  Iris-setosa  \n",
       "4                0.2  Iris-setosa  "
      ]
     },
     "execution_count": 1,
     "metadata": {},
     "output_type": "execute_result"
    }
   ],
   "source": [
    "import pandas as pd\n",
    "\n",
    "# 自定义列名\n",
    "feature_dict = {i:label for i, label in zip(range(4), ('sepal length in cm',\n",
    "                                                       'sepal width in cm',\n",
    "                                                       'petal length in cm',\n",
    "                                                       'petal width in cm',))}\n",
    "# 读取数据\n",
    "df = pd.read_csv(filepath_or_buffer='E:\\\\machineLearning\\\\kaggle\\\\dataset\\\\iris.data', header=None, sep=',',)\n",
    "df.columns = [l for i,l in sorted(feature_dict.items())] + ['class label']\n",
    "df.head()"
   ]
  },
  {
   "cell_type": "code",
   "execution_count": 2,
   "metadata": {},
   "outputs": [],
   "source": [
    "# 四个特征已是数值，但需要转换一下标签\n",
    "from sklearn.preprocessing import LabelEncoder\n",
    "\n",
    "X = df[['sepal length in cm', 'sepal width in cm', 'petal length in cm', 'petal width in cm']].values\n",
    "y = df['class label'].values\n",
    "enc = LabelEncoder()\n",
    "label_encoder = enc.fit(y)\n",
    "y = label_encoder.transform(y) + 1"
   ]
  },
  {
   "cell_type": "code",
   "execution_count": 3,
   "metadata": {},
   "outputs": [
    {
     "name": "stdout",
     "output_type": "stream",
     "text": [
      "均值类别1:[5.006 3.418 1.464 0.244]\n",
      "\n",
      "均值类别2:[5.936 2.77  4.26  1.326]\n",
      "\n",
      "均值类别3:[6.588 2.974 5.552 2.026]\n",
      "\n"
     ]
    }
   ],
   "source": [
    "# 求均值\n",
    "import numpy as np\n",
    "\n",
    "np.set_printoptions(precision=4) # 4位小数点\n",
    "mean_vectors = []\n",
    "for cl in range(1, 4):\n",
    "    mean_vectors.append(np.mean(X[y == cl], axis=0))\n",
    "    print('均值类别%s:%s\\n' % (cl, mean_vectors[cl-1]))"
   ]
  },
  {
   "cell_type": "code",
   "execution_count": 5,
   "metadata": {},
   "outputs": [
    {
     "name": "stdout",
     "output_type": "stream",
     "text": [
      "类内散布矩阵：\n",
      " [[38.9562 13.683  24.614   5.6556]\n",
      " [13.683  17.035   8.12    4.9132]\n",
      " [24.614   8.12   27.22    6.2536]\n",
      " [ 5.6556  4.9132  6.2536  6.1756]]\n"
     ]
    }
   ],
   "source": [
    "# 求类内散布矩阵\n",
    "S_W = np.zeros((4, 4))\n",
    "for cl, mv in zip(range(1, 4), mean_vectors):\n",
    "    class_sc_mat = np.zeros((4, 4))\n",
    "    for row in X[y == cl]:\n",
    "        row, mv = row.reshape(4, 1), mv.reshape(4, 1)\n",
    "        class_sc_mat += (row - mv).dot((row - mv).T)\n",
    "    S_W += class_sc_mat\n",
    "print('类内散布矩阵：\\n', S_W)"
   ]
  },
  {
   "cell_type": "code",
   "execution_count": 6,
   "metadata": {},
   "outputs": [
    {
     "name": "stdout",
     "output_type": "stream",
     "text": [
      "类间散布矩阵：\n",
      " [[ 63.2121 -19.534  165.1647  71.3631]\n",
      " [-19.534   10.9776 -56.0552 -22.4924]\n",
      " [165.1647 -56.0552 436.6437 186.9081]\n",
      " [ 71.3631 -22.4924 186.9081  80.6041]]\n"
     ]
    }
   ],
   "source": [
    "# 求类间散布矩阵\n",
    "overall_mean = np.mean(X, axis=0) # 全局均值\n",
    "S_B = np.zeros((4, 4))\n",
    "for i, mean_vec in enumerate(mean_vectors):\n",
    "    n = X[y == i + 1,:].shape[0]\n",
    "    mean_vec = mean_vec.reshape(4, 1)\n",
    "    overall_mean = overall_mean.reshape(4, 1)\n",
    "    S_B += n * (mean_vec - overall_mean).dot((mean_vec - overall_mean).T)\n",
    "print('类间散布矩阵：\\n', S_B)"
   ]
  },
  {
   "cell_type": "code",
   "execution_count": 8,
   "metadata": {},
   "outputs": [
    {
     "name": "stdout",
     "output_type": "stream",
     "text": [
      "\n",
      "特征向量1:\n",
      "[[ 0.2049]\n",
      " [ 0.3871]\n",
      " [-0.5465]\n",
      " [-0.7138]]\n",
      "特征值1:3.23e+01\n",
      "\n",
      "特征向量2:\n",
      "[[-0.009 ]\n",
      " [-0.589 ]\n",
      " [ 0.2543]\n",
      " [-0.767 ]]\n",
      "特征值2:2.78e-01\n",
      "\n",
      "特征向量3:\n",
      "[[-0.8379]\n",
      " [ 0.1696]\n",
      " [ 0.1229]\n",
      " [ 0.5041]]\n",
      "特征值3:-4.13e-15\n",
      "\n",
      "特征向量4:\n",
      "[[ 0.2   ]\n",
      " [-0.3949]\n",
      " [-0.4567]\n",
      " [ 0.7717]]\n",
      "特征值4:1.20e-14\n"
     ]
    }
   ],
   "source": [
    "# 求解特征向量\n",
    "eig_vals, eig_vecs = np.linalg.eig(np.linalg.inv(S_W).dot(S_B))\n",
    "for i in range(len(eig_vals)):\n",
    "    eigvec_sc = eig_vecs[:,i].reshape(4, 1)\n",
    "    print('\\n特征向量{}:\\n{}'.format(i + 1, eigvec_sc.real))\n",
    "    print('特征值{:}:{:.2e}'.format(i + 1, eig_vals[i].real))"
   ]
  },
  {
   "cell_type": "code",
   "execution_count": 9,
   "metadata": {},
   "outputs": [
    {
     "name": "stdout",
     "output_type": "stream",
     "text": [
      "特征值排序结果:\n",
      "\n",
      "32.27195779972981\n",
      "0.27756686384004264\n",
      "1.1953730364935478e-14\n",
      "4.1311796919088535e-15\n"
     ]
    }
   ],
   "source": [
    "# 按特征值大小排序\n",
    "eig_pairs = [(np.abs(eig_vals[i]), eig_vecs[:,i]) for i in range(len(eig_vals))]\n",
    "eig_pairs = sorted(eig_pairs, key=lambda k: k[0], reverse=True)\n",
    "print('特征值排序结果:\\n')\n",
    "for i in eig_pairs:\n",
    "    print(i[0])"
   ]
  },
  {
   "cell_type": "code",
   "execution_count": 10,
   "metadata": {},
   "outputs": [
    {
     "name": "stdout",
     "output_type": "stream",
     "text": [
      "特征值占总体百分比:\n",
      "\n",
      "特征值1:99.15%\n",
      "特征值2:0.85%\n",
      "特征值3:0.00%\n",
      "特征值4:0.00%\n"
     ]
    }
   ],
   "source": [
    "print('特征值占总体百分比:\\n')\n",
    "eigv_sum = sum(eig_vals)\n",
    "for i, j in enumerate(eig_pairs):\n",
    "    print('特征值{0:}:{1:.2%}'.format(i + 1, (j[0] / eigv_sum).real))"
   ]
  },
  {
   "cell_type": "code",
   "execution_count": 11,
   "metadata": {
    "scrolled": true
   },
   "outputs": [
    {
     "name": "stdout",
     "output_type": "stream",
     "text": [
      "矩阵W：\n",
      " [[ 0.2049 -0.009 ]\n",
      " [ 0.3871 -0.589 ]\n",
      " [-0.5465  0.2543]\n",
      " [-0.7138 -0.767 ]]\n"
     ]
    }
   ],
   "source": [
    "# 选择将数据降到二维，只选择特征1，2所对应特征向量\n",
    "W = np.hstack((eig_pairs[0][1].reshape(4, 1), eig_pairs[1][1].reshape(4, 1)))\n",
    "print('矩阵W：\\n', W.real) # 即最终所需投影方向"
   ]
  },
  {
   "cell_type": "code",
   "execution_count": 12,
   "metadata": {},
   "outputs": [
    {
     "data": {
      "text/plain": [
       "(150, 2)"
      ]
     },
     "execution_count": 12,
     "metadata": {},
     "output_type": "execute_result"
    }
   ],
   "source": [
    "# 带入原数据，即为降维结果\n",
    "X_lda =X.dot(W)\n",
    "X_lda.shape"
   ]
  },
  {
   "cell_type": "code",
   "execution_count": 14,
   "metadata": {},
   "outputs": [
    {
     "data": {
      "text/plain": [
       "(150, 2)"
      ]
     },
     "execution_count": 14,
     "metadata": {},
     "output_type": "execute_result"
    }
   ],
   "source": [
    "# 对于较大数据集，采用sklearn来完成降维，直接得到一步步计算矩阵的结果\n",
    "from sklearn.discriminant_analysis import LinearDiscriminantAnalysis as LDA\n",
    "sklearn_lda = LDA(n_components=2)\n",
    "X_lda_sklearn = sklearn_lda.fit_transform(X, y)\n",
    "X_lda_sklearn.shape"
   ]
  }
 ],
 "metadata": {
  "kernelspec": {
   "display_name": "Python 3",
   "language": "python",
   "name": "python3"
  },
  "language_info": {
   "codemirror_mode": {
    "name": "ipython",
    "version": 3
   },
   "file_extension": ".py",
   "mimetype": "text/x-python",
   "name": "python",
   "nbconvert_exporter": "python",
   "pygments_lexer": "ipython3",
   "version": "3.7.0"
  }
 },
 "nbformat": 4,
 "nbformat_minor": 2
}
